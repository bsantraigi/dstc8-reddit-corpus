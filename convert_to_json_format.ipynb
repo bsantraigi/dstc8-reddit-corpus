{
 "cells": [
  {
   "cell_type": "markdown",
   "metadata": {},
   "source": [
    "# Steps\n",
    "\n",
    "- Load a year\n",
    "- Read data\n",
    "- Apply reddit-filter (r1m_preprocess)\n",
    "- split into json files, each of 512 MB max\n",
    "- Remove the max_conv limiter\n",
    "- only extract in-domain validation data"
   ]
  },
  {
   "cell_type": "code",
   "execution_count": 1,
   "metadata": {},
   "outputs": [],
   "source": [
    "import os, glob, re, json, random\n",
    "from tqdm.notebook import tqdm\n",
    "from r1m_preprocess import filter_dialogs"
   ]
  },
  {
   "cell_type": "code",
   "execution_count": 2,
   "metadata": {},
   "outputs": [],
   "source": [
    "def extract_text(conv):\n",
    "    text = \" __eou__ \".join(conv['turns']) + \" __eou__\"\n",
    "    text = text.replace(\"\\n\", \"\")\n",
    "    text = text.replace(\"\\r\", \"\")\n",
    "    return text"
   ]
  },
  {
   "cell_type": "code",
   "execution_count": 3,
   "metadata": {},
   "outputs": [],
   "source": [
    "year = \"2011\"\n",
    "training_files = glob.glob(f'./data/{year}/dialogues/training/*.txt')"
   ]
  },
  {
   "cell_type": "code",
   "execution_count": 4,
   "metadata": {},
   "outputs": [
    {
     "data": {
      "text/plain": [
       "541"
      ]
     },
     "execution_count": 4,
     "metadata": {},
     "output_type": "execute_result"
    }
   ],
   "source": [
    "len(training_files)"
   ]
  },
  {
   "cell_type": "code",
   "execution_count": 5,
   "metadata": {},
   "outputs": [],
   "source": [
    "MAX_CONV_PER_DOMAIN = 500\n",
    "out_dir = './data/reddit_xtreme/' # around 900 train files"
   ]
  },
  {
   "cell_type": "code",
   "execution_count": 6,
   "metadata": {},
   "outputs": [
    {
     "data": {
      "application/vnd.jupyter.widget-view+json": {
       "model_id": "9ef37e3955b942e9a57b9578007fa93f",
       "version_major": 2,
       "version_minor": 0
      },
      "text/plain": [
       "HBox(children=(FloatProgress(value=0.0, max=541.0), HTML(value='')))"
      ]
     },
     "metadata": {},
     "output_type": "display_data"
    },
    {
     "name": "stdout",
     "output_type": "stream",
     "text": [
      "\n"
     ]
    }
   ],
   "source": [
    "train_data = []\n",
    "for file in tqdm(training_files):\n",
    "    with open(file) as f:\n",
    "        for i, l in enumerate(f):\n",
    "            if i >= MAX_CONV_PER_DOMAIN:\n",
    "                break\n",
    "            # conv = extract_text(json.loads(l))\n",
    "            conv = json.loads(l)[\"turns\"]\n",
    "            train_data.append(conv)"
   ]
  },
  {
   "cell_type": "code",
   "execution_count": 7,
   "metadata": {},
   "outputs": [
    {
     "data": {
      "text/plain": [
       "[\"How would I install a calendar or something of the sort to be able to use?  <selfbr> I downloaded a calendar and I have tried to just put it into themes. Can't find it anywhere when I am trying to config to add it independantly. Any help? \",\n",
       " 'What calendar did you download?',\n",
       " 'I Downloaded the corner calendar. I figured out how after another hour of fidgeting with it. I appreciate the comment though. ',\n",
       " 'Well, if you need to remember, it goes in the Skins folder.']"
      ]
     },
     "execution_count": 7,
     "metadata": {},
     "output_type": "execute_result"
    }
   ],
   "source": [
    "train_data[0]"
   ]
  },
  {
   "cell_type": "code",
   "execution_count": 8,
   "metadata": {},
   "outputs": [
    {
     "data": {
      "text/plain": [
       "207028"
      ]
     },
     "execution_count": 8,
     "metadata": {},
     "output_type": "execute_result"
    }
   ],
   "source": [
    "len(train_data)"
   ]
  },
  {
   "cell_type": "code",
   "execution_count": 9,
   "metadata": {},
   "outputs": [
    {
     "name": "stderr",
     "output_type": "stream",
     "text": [
      "Filtering dialogs: 100%|██████████| 207028/207028 [01:46<00:00, 1944.54it/s]\n"
     ]
    },
    {
     "name": "stdout",
     "output_type": "stream",
     "text": [
      "salvaged 88111 dialogs out of a total 207028 samples.\n",
      "                urls    avg_utt_len  very_long_utt          turns  \\\n",
      "count  207028.000000  207028.000000  207028.000000  207028.000000   \n",
      "mean        0.854537      51.994496       0.831337       4.800727   \n",
      "std         2.371895      50.730940       1.103665       1.322925   \n",
      "min         0.000000       1.000000       0.000000       4.000000   \n",
      "25%         0.000000      20.750000       0.000000       4.000000   \n",
      "50%         0.000000      37.285714       0.000000       4.000000   \n",
      "75%         1.000000      65.333333       1.000000       5.000000   \n",
      "max       287.000000    1023.750000      24.000000      61.000000   \n",
      "\n",
      "       first_utt_len  \n",
      "count  207028.000000  \n",
      "mean       82.561977  \n",
      "std       132.036542  \n",
      "min         1.000000  \n",
      "25%        11.000000  \n",
      "50%        40.000000  \n",
      "75%       102.000000  \n",
      "max      3531.000000  \n"
     ]
    }
   ],
   "source": [
    "_, train_data = filter_dialogs(train_data)"
   ]
  },
  {
   "cell_type": "code",
   "execution_count": 10,
   "metadata": {},
   "outputs": [],
   "source": [
    "val_files = glob.glob(f'./data/{year}/dialogues/validation_date_in_domain_in/*.txt')"
   ]
  },
  {
   "cell_type": "code",
   "execution_count": 11,
   "metadata": {},
   "outputs": [
    {
     "data": {
      "text/plain": [
       "497"
      ]
     },
     "execution_count": 11,
     "metadata": {},
     "output_type": "execute_result"
    }
   ],
   "source": [
    "len(val_files)"
   ]
  },
  {
   "cell_type": "code",
   "execution_count": 12,
   "metadata": {},
   "outputs": [
    {
     "data": {
      "application/vnd.jupyter.widget-view+json": {
       "model_id": "c56d6ae424d3476aba7da151a7ce7f94",
       "version_major": 2,
       "version_minor": 0
      },
      "text/plain": [
       "HBox(children=(FloatProgress(value=0.0, max=497.0), HTML(value='')))"
      ]
     },
     "metadata": {},
     "output_type": "display_data"
    },
    {
     "name": "stdout",
     "output_type": "stream",
     "text": [
      "\n"
     ]
    }
   ],
   "source": [
    "val_data = []\n",
    "for file in tqdm(val_files):\n",
    "    with open(file) as f:        \n",
    "        for j, l in enumerate(f):\n",
    "            if j >= MAX_CONV_PER_DOMAIN:\n",
    "                break\n",
    "            # conv = extract_text(json.loads(l))  \n",
    "            conv = json.loads(l)[\"turns\"]\n",
    "            val_data.append(conv)"
   ]
  },
  {
   "cell_type": "code",
   "execution_count": 13,
   "metadata": {},
   "outputs": [
    {
     "data": {
      "text/plain": [
       "[\"Just found out about Rainmeter. Here's my Omnimo desktop!\",\n",
       " \"How'd you turn the weather/recycle bin/mail icon transparent?\",\n",
       " 'Hover over the \"Right Arrow\" icon, click the pallet that pops up below it, and you get a bunch of color choices, the last one being transparent.',\n",
       " 'Awesome, thank you!']"
      ]
     },
     "execution_count": 13,
     "metadata": {},
     "output_type": "execute_result"
    }
   ],
   "source": [
    "val_data[0]"
   ]
  },
  {
   "cell_type": "code",
   "execution_count": 14,
   "metadata": {},
   "outputs": [
    {
     "data": {
      "text/plain": [
       "74634"
      ]
     },
     "execution_count": 14,
     "metadata": {},
     "output_type": "execute_result"
    }
   ],
   "source": [
    "len(val_data)"
   ]
  },
  {
   "cell_type": "code",
   "execution_count": 15,
   "metadata": {},
   "outputs": [
    {
     "name": "stderr",
     "output_type": "stream",
     "text": [
      "Filtering dialogs: 100%|██████████| 74634/74634 [00:38<00:00, 1962.29it/s]\n"
     ]
    },
    {
     "name": "stdout",
     "output_type": "stream",
     "text": [
      "salvaged 32514 dialogs out of a total 74634 samples.\n",
      "               urls   avg_utt_len  very_long_utt         turns  first_utt_len\n",
      "count  74634.000000  74634.000000   74634.000000  74634.000000   74634.000000\n",
      "mean       0.778667     51.460641       0.798657      4.814361      86.861618\n",
      "std        2.097565     52.491119       1.064477      1.364278     159.734347\n",
      "min        0.000000      1.000000       0.000000      4.000000       1.000000\n",
      "25%        0.000000     20.250000       0.000000      4.000000      11.000000\n",
      "50%        0.000000     36.500000       0.000000      4.000000      37.000000\n",
      "75%        1.000000     63.777778       1.000000      5.000000     103.000000\n",
      "max       98.000000   1162.800000      17.000000     49.000000    5682.000000\n"
     ]
    }
   ],
   "source": [
    "_, val_data = filter_dialogs(val_data)"
   ]
  },
  {
   "cell_type": "code",
   "execution_count": 16,
   "metadata": {},
   "outputs": [],
   "source": [
    "random.seed(42)"
   ]
  },
  {
   "cell_type": "code",
   "execution_count": 17,
   "metadata": {},
   "outputs": [],
   "source": [
    "random.shuffle(train_data)\n",
    "random.shuffle(val_data)"
   ]
  },
  {
   "cell_type": "code",
   "execution_count": 18,
   "metadata": {},
   "outputs": [],
   "source": [
    "test_data = val_data[1000:]\n",
    "val_data = val_data[:1000]"
   ]
  },
  {
   "cell_type": "code",
   "execution_count": 19,
   "metadata": {},
   "outputs": [
    {
     "name": "stdout",
     "output_type": "stream",
     "text": [
      "Train: 88111, Val: 1000, Test: 31514\n"
     ]
    }
   ],
   "source": [
    "print(f\"Train: {len(train_data)}, Val: {len(val_data)}, Test: {len(test_data)}\")"
   ]
  },
  {
   "cell_type": "code",
   "execution_count": 20,
   "metadata": {},
   "outputs": [
    {
     "data": {
      "text/plain": [
       "['What is the creepiest thing that has ever happened in your house at night while you were alone? (X-post from /r/AskReddit) : I love \"This happened to me one night in my house\" ghost stories, and these are some of the creepiest:\\n\\n[URL]',\n",
       " 'I had an apartment where I would here something whisper my name when i was alone.',\n",
       " '*mcdeeaagghlessaaaaaadwiiiichh.......happpyy birrrthdayy*',\n",
       " 'OMG I HAD NO IDEA!!! TY.  Making obligitory rage comic now.',\n",
       " 'I found the rage comic stating it was your reddit birthday just earlier.']"
      ]
     },
     "execution_count": 20,
     "metadata": {},
     "output_type": "execute_result"
    }
   ],
   "source": [
    "test_data[0]"
   ]
  },
  {
   "cell_type": "code",
   "execution_count": 21,
   "metadata": {},
   "outputs": [
    {
     "name": "stdout",
     "output_type": "stream",
     "text": [
      "Path ./data/reddit_xtreme/ exists.\n"
     ]
    }
   ],
   "source": [
    "exp_path = out_dir\n",
    "try:\n",
    "    os.makedirs(exp_path)\n",
    "    print(f\"Path {exp_path} created.\")\n",
    "except FileExistsError:\n",
    "    print(f\"Path {exp_path} exists.\")\n",
    "    pass"
   ]
  },
  {
   "cell_type": "code",
   "execution_count": 25,
   "metadata": {},
   "outputs": [],
   "source": [
    "class SplitWriter:\n",
    "    def __init__(self, base_path_prefix, max_split_mb=512):\n",
    "        \"\"\"\n",
    "        @param base_path_prefix: We will add an incremental id and .json at the end.\n",
    "        \"\"\"\n",
    "        self.current_file = 0\n",
    "        self.base_path_prefix = base_path_prefix\n",
    "        self.f = None\n",
    "        self.max_split_mb = max_split_mb\n",
    "        \n",
    "        self._open_next()\n",
    "    \n",
    "    def _open_next(self):\n",
    "        if self.f is not None:\n",
    "            self.f.close()\n",
    "        \n",
    "        self.f = open(f\"{self.base_path_prefix}_{self.current_file:02d}.json\")\n",
    "        self.current_file += 1\n",
    "        \n",
    "    def write(self, l):        \n",
    "        self.f.write(l)\n",
    "        \n",
    "        if self.f.tell() > self.max_split_mb*1024*1024:\n",
    "            print(\"Reached Max Size\")\n",
    "            self._open_next()\n",
    "        \n",
    "    def close(self):\n",
    "        if self.f is not None:\n",
    "            self.f.close()"
   ]
  },
  {
   "cell_type": "code",
   "execution_count": 24,
   "metadata": {},
   "outputs": [],
   "source": [
    "with open(os.path.join(exp_path, 'train_dialogues.json'), \"w\") as f:\n",
    "    for l in train_data:\n",
    "        f.write(json.dumps({\"turns\": l})+\"\\n\")\n",
    "        if f.tell() > 512*1024*1024:\n",
    "            print(\"Reached Max Size\")\n",
    "            break"
   ]
  },
  {
   "cell_type": "code",
   "execution_count": null,
   "metadata": {},
   "outputs": [],
   "source": [
    "with open(os.path.join(exp_path, 'val_dialogues.json'), \"w\") as f:\n",
    "    for l in val_data:\n",
    "        f.write(json.dumps({\"turns\": l})+\"\\n\")"
   ]
  },
  {
   "cell_type": "code",
   "execution_count": null,
   "metadata": {},
   "outputs": [],
   "source": [
    "with open(os.path.join(exp_path, 'test_dialogues.json'), \"w\") as f:\n",
    "    for l in test_data:\n",
    "        f.write(json.dumps({\"turns\": l})+\"\\n\")"
   ]
  },
  {
   "cell_type": "code",
   "execution_count": null,
   "metadata": {},
   "outputs": [],
   "source": []
  }
 ],
 "metadata": {
  "kernelspec": {
   "display_name": "Python 3",
   "language": "python",
   "name": "python3"
  },
  "language_info": {
   "codemirror_mode": {
    "name": "ipython",
    "version": 3
   },
   "file_extension": ".py",
   "mimetype": "text/x-python",
   "name": "python",
   "nbconvert_exporter": "python",
   "pygments_lexer": "ipython3",
   "version": "3.7.8"
  }
 },
 "nbformat": 4,
 "nbformat_minor": 4
}
